{
 "cells": [
  {
   "cell_type": "code",
   "execution_count": 2,
   "metadata": {},
   "outputs": [],
   "source": [
    "'''\n",
    "Student Name: Animesh Chaudhry \n",
    "Class: Math 440\n",
    "\n",
    "Quiz 1  \n",
    "Problem 2\n",
    "\n",
    "10/22/19\n",
    "'''\n",
    "\n",
    "import numpy as np\n",
    "from numpy import array, zeros, diag, diagflat, dot\n",
    "from numpy.core.numeric import (asarray, empty, promote_types,multiply)\n"
   ]
  },
  {
   "cell_type": "code",
   "execution_count": 4,
   "metadata": {},
   "outputs": [],
   "source": [
    "def vander(x, N, increasing):\n",
    "    '''\n",
    "    Inputs: \n",
    "        \n",
    "        x: One-dimensional vector \n",
    "        N: Can choose how many columns of the matrix you want. \n",
    "            None: The full vandermonde matrix will be constructed\n",
    "        increasing: \n",
    "            True: The 1's will be the first column and the matrix columns will be increasing \n",
    "            False: Vice Versa\n",
    "    '''    \n",
    "        \n",
    "        \n",
    "    # Convert the input to an array.\n",
    "    x = asarray(x)\n",
    "    \n",
    "    # Make sure that x is a column vector\n",
    "    if x.ndim != 1:\n",
    "        raise ValueError(\"x must be a one-dimensional vector\")\n",
    "    if N is None:\n",
    "        N = len(x)\n",
    "\n",
    "    # Return a new array of given shape and type, without initializing entries.\n",
    "    v = empty((len(x), N), dtype=promote_types(x.dtype, float))\n",
    "    \n",
    "    # If the user does not want an increasing matrix created\n",
    "    tmp = v[:, ::-1] if not increasing else v\n",
    "\n",
    "    if N > 0:\n",
    "        tmp[:, 0] = 1\n",
    "    if N > 1:\n",
    "        tmp[:, 1:] = x[:, None]\n",
    "        multiply.accumulate(tmp[:, 1:], out=tmp[:, 1:], axis=1)\n",
    "\n",
    "    return v"
   ]
  },
  {
   "cell_type": "code",
   "execution_count": 6,
   "metadata": {},
   "outputs": [
    {
     "name": "stdout",
     "output_type": "stream",
     "text": [
      "\n",
      "Enter the second column for A (entries followed by a space): \n",
      "1.23 3.45\n",
      "Enter the b column vector: \n",
      "3 4\n"
     ]
    }
   ],
   "source": [
    "'''Obtain Two column vectors (b and the second column of A) from user'''\n",
    "\n",
    "while(True):\n",
    "    print(\"\\nEnter the second column for A (entries followed by a space): \")\n",
    "    a = [float(x) for x in input().split()] \n",
    "    print(\"Enter the b column vector: \")\n",
    "    b = [float(x) for x in input().split()]\n",
    "    \n",
    "    if (len(a) == len(b)):\n",
    "        break\n",
    "    else: \n",
    "        print(\"The two column vectors must be the same length! Please Try again.\")\n",
    "\n",
    "A = vander(a, None, True)\n"
   ]
  },
  {
   "cell_type": "code",
   "execution_count": 7,
   "metadata": {},
   "outputs": [
    {
     "name": "stdout",
     "output_type": "stream",
     "text": [
      "System:\n",
      "1.0*x1 + 1.23*x2 = 3.0\n",
      "1.0*x1 + 3.45*x2 = 4.0\n",
      "\n"
     ]
    }
   ],
   "source": [
    "# prints the system\n",
    "print(\"System:\" )\n",
    "for i in range(A.shape[0]):\n",
    " row = [\"{}*x{}\" .format(A[i, j], j + 1) for j in range(A.shape[1])]\n",
    " print(\" + \".join(row), \"=\", b[i])\n",
    "print()"
   ]
  },
  {
   "cell_type": "code",
   "execution_count": 8,
   "metadata": {},
   "outputs": [],
   "source": [
    "def jacobi(A,b,N=25,x=None):\n",
    "    \"\"\"Solves the equation Ax=b via the Jacobi iterative method.\"\"\"\n",
    "    # Create an initial guess if needed                                                                                                                                                            \n",
    "    if x is None:\n",
    "        x = zeros(len(A[0]))\n",
    "\n",
    "    # Create a vector of the diagonal elements of A                                                                                                                                                \n",
    "    # and subtract them from A                                                                                                                                                                     \n",
    "    D = diag(A)\n",
    "    R = A - diagflat(D)\n",
    "\n",
    "    # Iterate for N times                                                                                                                                                                          \n",
    "    for i in range(N):\n",
    "        x = (b - dot(R,x)) / D\n",
    "    return x\n"
   ]
  },
  {
   "cell_type": "code",
   "execution_count": 9,
   "metadata": {},
   "outputs": [
    {
     "name": "stdout",
     "output_type": "stream",
     "text": [
      "Solution:\n",
      "[2.44594828 0.45045344]\n"
     ]
    }
   ],
   "source": [
    "print(\"Solution:\" )\n",
    "print(jacobi(A, b))\n"
   ]
  }
 ],
 "metadata": {
  "kernelspec": {
   "display_name": "Python 3",
   "language": "python",
   "name": "python3"
  },
  "language_info": {
   "codemirror_mode": {
    "name": "ipython",
    "version": 3
   },
   "file_extension": ".py",
   "mimetype": "text/x-python",
   "name": "python",
   "nbconvert_exporter": "python",
   "pygments_lexer": "ipython3",
   "version": "3.7.1"
  }
 },
 "nbformat": 4,
 "nbformat_minor": 2
}
