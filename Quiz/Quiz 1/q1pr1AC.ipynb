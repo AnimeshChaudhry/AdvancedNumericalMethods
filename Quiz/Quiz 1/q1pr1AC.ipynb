{
 "cells": [
  {
   "cell_type": "code",
   "execution_count": 16,
   "metadata": {},
   "outputs": [],
   "source": [
    "'''\n",
    "Student Name: Animesh Chaudhry \n",
    "Class: Math 440\n",
    "\n",
    "Quiz 1  \n",
    "Problem 1\n",
    "\n",
    "10/22/19\n",
    "'''\n",
    "\n",
    "\n",
    "import math\n",
    "import numpy as np\n",
    "\n",
    "func = lambda x: x**3+ 3*(x**2) - 1"
   ]
  },
  {
   "cell_type": "code",
   "execution_count": 17,
   "metadata": {},
   "outputs": [
    {
     "name": "stdout",
     "output_type": "stream",
     "text": [
      "All Roots:  [-2.8793852403760027, -0.6527036443352852, 0.5320888862013621]\n"
     ]
    }
   ],
   "source": [
    "def bisection(f,a,b,N):\n",
    "    if f(a)*f(b) >= 0:\n",
    "        return None\n",
    "    a_n = a\n",
    "    b_n = b\n",
    "    for n in range(1,N+1):\n",
    "        m_n = (a_n + b_n)/2\n",
    "        f_m_n = f(m_n)\n",
    "        if f(a_n)*f_m_n < 0:\n",
    "            a_n = a_n\n",
    "            b_n = m_n\n",
    "        elif f(b_n)*f_m_n < 0:\n",
    "            a_n = m_n\n",
    "            b_n = b_n\n",
    "        elif f_m_n == 0:\n",
    "            return m_n\n",
    "        else:\n",
    "            return None\n",
    "    return (a_n + b_n)/2\n",
    "\n",
    "def find_all_roots(a, b):\n",
    "    vals = []\n",
    "    for i in np.arange(a, b, 0.1):\n",
    "        vals.append([i, i+0.1])\n",
    "    sor_itr = []\n",
    "    for i in vals:\n",
    "        #print(bisection(func, i[0], i[1], 25))\n",
    "        #print(i)\n",
    "        if bisection(func, i[0], i[1], 25) != None:\n",
    "            sor_itr.append(bisection(func, i[0], i[1], 25))\n",
    "    return list(dict.fromkeys(sor_itr))\n",
    "    \n",
    "\n",
    "print(\"All Roots: \",find_all_roots(-5,5))\n"
   ]
  }
 ],
 "metadata": {
  "kernelspec": {
   "display_name": "Python 3",
   "language": "python",
   "name": "python3"
  },
  "language_info": {
   "codemirror_mode": {
    "name": "ipython",
    "version": 3
   },
   "file_extension": ".py",
   "mimetype": "text/x-python",
   "name": "python",
   "nbconvert_exporter": "python",
   "pygments_lexer": "ipython3",
   "version": "3.7.1"
  }
 },
 "nbformat": 4,
 "nbformat_minor": 2
}
