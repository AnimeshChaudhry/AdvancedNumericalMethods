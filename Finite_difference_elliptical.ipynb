{
 "cells": [
  {
   "cell_type": "code",
   "execution_count": 2,
   "metadata": {},
   "outputs": [
    {
     "data": {
      "text/plain": [
       "'\\n\\nFinite-Difference method to approximate the solution to the elliptic partial-differential equation\\n'"
      ]
     },
     "execution_count": 2,
     "metadata": {},
     "output_type": "execute_result"
    }
   ],
   "source": [
    "'''\n",
    "\n",
    "Finite-Difference method to approximate the solution to the elliptic partial-differential equation\n",
    "'''"
   ]
  },
  {
   "cell_type": "code",
   "execution_count": 3,
   "metadata": {},
   "outputs": [
    {
     "name": "stdout",
     "output_type": "stream",
     "text": [
      "Finite-Difference method to approximate the solution to the elliptic partial-differential equation\n",
      "\n",
      "   i  j      x_i      y_j  Unknown w's  Actual Solution    error\n",
      "0  1  1  1.33333  0.33333      0.63480          0.63599  0.00118\n",
      "1  2  1  1.66667  0.33333      1.05999          1.06087  0.00088\n",
      "2  1  2  1.33333  0.66667      0.79850          0.79851  0.00001\n",
      "3  2  2  1.66667  0.66667      1.16982          1.17007  0.00025\n",
      "\n",
      "\n",
      "    Initial w's (Known Boundary Conditions)\n",
      "0                                   0.00000\n",
      "1                                   0.57536\n",
      "2                                   1.02165\n",
      "3                                   1.38629\n",
      "4                                   0.10536\n",
      "5                                   0.36772\n",
      "6                                   0.69315\n",
      "7                                   1.02165\n",
      "8                                   1.32914\n",
      "9                                   1.60944\n",
      "10                                  1.41369\n",
      "11                                  1.49165\n",
      "\n",
      "\n"
     ]
    }
   ],
   "source": [
    "from pandas import DataFrame as df\n",
    "import numpy as np\n",
    "import itertools\n",
    "\n",
    "\n",
    "def fin_diff_ellip(a,b,c,d,g,h,f=0):\n",
    "    xi = np.arange(a,b+h,h)\n",
    "    xi = xi[:-1]\n",
    "    yj = np.arange(c,d+h,h)\n",
    "    \n",
    "    #Initial Conditions \n",
    "    w0 = []\n",
    "    \n",
    "    #Bottom Row: w00, w10, w20, w30\n",
    "    for i in range(len(xi)):\n",
    "        w0.append(g[0](xi[i],0))\n",
    "    #Left Column: w01, w02, w03\n",
    "    for i in itertools.islice(yj , 1, len(yj)):\n",
    "        w0.append(g[3](1,i))\n",
    "    #Top Row: w13, w23, w33\n",
    "    for i in itertools.islice(xi , 1,len(xi)):\n",
    "        w0.append(g[2](i,1))\n",
    "    #Right Column: w31, w32\n",
    "    for i in itertools.islice(yj , 1,len(yj)-1):\n",
    "        w0.append(g[1](2,i))\n",
    "    A = np.array([[4,-1,-1,0],[-1,4,0,-1],[-1,0,4,-1],[0,-1,-1,4]])\n",
    "    b = np.array([w0[4]+w0[1], w0[10]+w0[2], w0[5]+w0[7],w0[11]+w0[8]])\n",
    "    \n",
    "    w = np.linalg.solve(A, b)\n",
    "    return w, w0, xi, yj\n",
    "\n",
    "\n",
    "########################################################################################################\n",
    "\n",
    "a,b,c,d,h = 1,2,0,1,1/3\n",
    "g = [lambda x,y: 2*np.log(x), lambda x,y: np.log(y**2 + 4),\\\n",
    "     lambda x,y: np.log(x**2 + 1), lambda x,y: np.log(y**2 + 1)]\n",
    "actual = lambda x,y: np.log(x**2 + y**2)\n",
    "\n",
    "\n",
    "def ex(a,b,c,d,g,h):\n",
    "    t = np.arange(a,b+h,h)\n",
    "    ans = fin_diff_ellip(a,b,c,d,g,h)\n",
    "    w = ans[0]\n",
    "    ans_dic = {'x':[ans[2][1],ans[2][2],ans[2][1],ans[2][2]],\n",
    "               'y':[ans[3][1],ans[3][1],ans[3][2],ans[3][2]],\n",
    "              'i': [1,2,1,2],\n",
    "              'j': [1,1,2,2]}\n",
    "    sol = actual(np.array(ans_dic['x']), np.array(ans_dic['y']))\n",
    "    print(f\"Finite-Difference method to approximate the solution to the elliptic partial-differential\\\n",
    " equation\\n\")\n",
    "    data = {'i':ans_dic['i'],\n",
    "            'j':ans_dic['j'],\n",
    "        'x_i': ans_dic['x'],\n",
    "            'y_j': ans_dic['y'],\n",
    "            'Unknown w\\'s':w,\n",
    "           'Actual Solution':sol,\n",
    "           'error': abs(w-sol)}\n",
    "    print(f\"{df(data).round(5)}\\n\\n\")\n",
    "    data2 = {\n",
    "        'Initial w\\'s (Known Boundary Conditions)': ans[1]\n",
    "    }\n",
    "    print(f\"{df(data2).round(5)}\\n\\n\")\n",
    "    \n",
    "ex(a,b,c,d,g,h)  \n",
    "    \n"
   ]
  }
 ],
 "metadata": {
  "kernelspec": {
   "display_name": "Python 3",
   "language": "python",
   "name": "python3"
  },
  "language_info": {
   "codemirror_mode": {
    "name": "ipython",
    "version": 3
   },
   "file_extension": ".py",
   "mimetype": "text/x-python",
   "name": "python",
   "nbconvert_exporter": "python",
   "pygments_lexer": "ipython3",
   "version": "3.7.1"
  }
 },
 "nbformat": 4,
 "nbformat_minor": 2
}
