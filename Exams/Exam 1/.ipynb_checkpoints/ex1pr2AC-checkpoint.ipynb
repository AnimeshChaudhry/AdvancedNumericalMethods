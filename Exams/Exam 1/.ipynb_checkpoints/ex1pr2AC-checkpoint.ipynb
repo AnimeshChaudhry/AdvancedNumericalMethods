{
 "cells": [
  {
   "cell_type": "code",
   "execution_count": 170,
   "metadata": {},
   "outputs": [
    {
     "name": "stdout",
     "output_type": "stream",
     "text": [
      "A = [[2, 1], [1, 2]]\n",
      "\n",
      "b = [1, 2]\n",
      "\n",
      "x_0 = [0, 1]\n",
      "\n",
      "alpha = 0.5\n",
      "\n",
      "\n",
      "Value of x* = A^(-1)b using itr_method: [0. 1.]\n",
      "\n",
      "Value of x* = A^(-1)b using np.linalg.solve: [0. 1.]\n",
      "\n",
      "Eigenvalues of A: [3. 1.]\n"
     ]
    },
    {
     "data": {
      "text/plain": [
       "'\\n(b) It seems to converge for all values of alpha that are less that the eigenvalues. It seems like at times \\nthere are no patterns for alpha if our choice of initial vector is bad. I we choose a decent initial vector any\\nvalue of alpha between 0 and 1 can be decent. \\n'"
      ]
     },
     "execution_count": 170,
     "metadata": {},
     "output_type": "execute_result"
    }
   ],
   "source": [
    "'''\n",
    "Student Name: Animesh Chaudhry \n",
    "Class: Math 440\n",
    "\n",
    "Exam 1  \n",
    "Problem 2\n",
    "\n",
    "10/15/19\n",
    "'''\n",
    "\n",
    "import numpy as np\n",
    "from numpy import linalg as LA\n",
    "\n",
    "def itr_method(A, alpha, b, x_0=None, N=50, TOL=1e-06):\n",
    "    \n",
    "    A = np.array(A)\n",
    "    n, m = A.shape\n",
    "    \n",
    "    if x_0 is None:\n",
    "        x_0 = np.zeros((n,1))\n",
    "    else:\n",
    "        if (n != len(x_0)):\n",
    "            print(\"The starting vector x_0 does not have the correct dimensions\")\n",
    "            return None\n",
    "        else:\n",
    "            x_0 = np.array(x_0)\n",
    "    if (n != len(b)):\n",
    "            print(\"The vector b does not have the correct dimensions\")\n",
    "            return None\n",
    "    b = np.array(b)\n",
    "    \n",
    "    if n != m:\n",
    "        print(\"Matrix not Square\")\n",
    "        return None\n",
    "    \n",
    "    x = x_0\n",
    "    for i in range(N):\n",
    "        r = (b - np.matmul(A,x))\n",
    "        x = x + alpha*r\n",
    "    return(x)\n",
    "    \n",
    "A = [[2,1], [1,2]]\n",
    "alpha = 1/2\n",
    "x_0 = [0, 1]\n",
    "b = [1,2]\n",
    "\n",
    "print('A = {}\\n\\nb = {}\\n\\nx_0 = {}\\n\\nalpha = {}\\n\\n'.format(A,b,x_0,alpha))\n",
    "print(\"Value of x* = A^(-1)b using itr_method: {}\\n\".format(itr_method(A, alpha, b, x_0)))\n",
    "print(\"Value of x* = A^(-1)b using np.linalg.solve: {}\\n\".format(np.linalg.solve(np.array(A), np.array(b))))\n",
    "print(\"Eigenvalues of A: {}\".format(LA.eig(A)[0]))\n",
    "'''\n",
    "(a) From the output of the itr_method function, you can clearly see that x^(t) converges to the solution \n",
    "x* = A^(-1)b for the given choice of alpha, b, and x_0. Both functions give out the vector [0, 1]\n",
    "'''\n",
    "\n",
    "'''\n",
    "(b) It seems to converge for all values of alpha that are less that the eigenvalues. It seems like at times \n",
    "there are no patterns for alpha if our choice of initial vector is bad. I we choose a decent initial vector any\n",
    "value of alpha between 0 and 1 can be decent. \n",
    "'''\n"
   ]
  },
  {
   "cell_type": "code",
   "execution_count": null,
   "metadata": {},
   "outputs": [],
   "source": []
  }
 ],
 "metadata": {
  "kernelspec": {
   "display_name": "Python 3",
   "language": "python",
   "name": "python3"
  },
  "language_info": {
   "codemirror_mode": {
    "name": "ipython",
    "version": 3
   },
   "file_extension": ".py",
   "mimetype": "text/x-python",
   "name": "python",
   "nbconvert_exporter": "python",
   "pygments_lexer": "ipython3",
   "version": "3.7.1"
  }
 },
 "nbformat": 4,
 "nbformat_minor": 2
}
