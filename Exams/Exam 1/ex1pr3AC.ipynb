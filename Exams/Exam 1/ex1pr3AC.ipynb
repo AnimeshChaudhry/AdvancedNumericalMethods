{
 "cells": [
  {
   "cell_type": "code",
   "execution_count": 7,
   "metadata": {},
   "outputs": [
    {
     "name": "stdout",
     "output_type": "stream",
     "text": [
      "The dominant eigenvalue is 6.0000065394952795, and the eigenvector associated is [ 1.          0.71428595 -0.24999918]\n"
     ]
    }
   ],
   "source": [
    "'''\n",
    "Student Name: Animesh Chaudhry \n",
    "Class: Math 440\n",
    "\n",
    "Exam 1  \n",
    "Problem 3\n",
    "\n",
    "10/15/19\n",
    "'''\n",
    "\n",
    "import numpy as np\n",
    "from decimal import *\n",
    "\n",
    "def power(A, x_0=None, TOL=1e-6, max_itr=50):\n",
    "\n",
    "    \n",
    "    n, m = A.shape\n",
    "    \n",
    "    if x_0 is None:\n",
    "        x_0 = np.ones((n,1))\n",
    "    else:\n",
    "        if (n != len(x_0)):\n",
    "            print(\"The starting vector x_0 does not have the correct dimensions\")\n",
    "            return None\n",
    "        else:\n",
    "            x_0 = np.array(x_0)\n",
    "            \n",
    "            \n",
    "    \n",
    "    if n != m:\n",
    "        print(\"Matrix not Square\")\n",
    "        return None\n",
    "        \n",
    "    if max(abs(x_0)) > 1:\n",
    "            x_0 /= max(abs(x_0))\n",
    "    \n",
    "    abs_d = 1/TOL\n",
    "    \n",
    "    zcol = np.zeros((n,1))\n",
    "    x = x_0\n",
    "    y = zcol\n",
    "    mu = [0]\n",
    "    \n",
    "    i = 1\n",
    "    while abs_d > TOL:\n",
    "        \n",
    "        # Initialize\n",
    "        x = np.hstack((x,zcol))\n",
    "        y = np.hstack((y,zcol))\n",
    "        mu.append(0)\n",
    "        # y = Ax\n",
    "        y[:, i] = np.dot(A, x[:,i-1])\n",
    "        # mu = y_p0, where p_0 is the max value \n",
    "        mu[i] = max(abs(y[:,i]))\n",
    "        # x = y/mu\n",
    "        x[:, i] = y[:,i]/mu[i]\n",
    "        \n",
    "        abs_d = max(abs( x[:,-1] -  x[:, -2])) / max(abs(x[:,-1]))\n",
    "        \n",
    "        i += 1\n",
    "        if i > max_itr:\n",
    "            return None\n",
    "    print(\"The dominant eigenvalue is {}, and the eigenvector associated is {}\".format(mu[-1], x[:,-1]))\n",
    "\n",
    "A = np.array([[-4, 14, 0], [-5, 13, 0], [-1, 0, 2]])\n",
    "x_0 = np.ones((3,1))\n",
    "\n",
    "power(A)\n",
    "        "
   ]
  }
 ],
 "metadata": {
  "kernelspec": {
   "display_name": "Python 3",
   "language": "python",
   "name": "python3"
  },
  "language_info": {
   "codemirror_mode": {
    "name": "ipython",
    "version": 3
   },
   "file_extension": ".py",
   "mimetype": "text/x-python",
   "name": "python",
   "nbconvert_exporter": "python",
   "pygments_lexer": "ipython3",
   "version": "3.7.1"
  }
 },
 "nbformat": 4,
 "nbformat_minor": 2
}
