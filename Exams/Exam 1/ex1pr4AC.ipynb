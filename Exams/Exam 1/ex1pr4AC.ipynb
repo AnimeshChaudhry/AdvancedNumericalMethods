{
 "cells": [
  {
   "cell_type": "code",
   "execution_count": 47,
   "metadata": {},
   "outputs": [],
   "source": [
    "'''\n",
    "Student Name: Animesh Chaudhry \n",
    "Class: Math 440\n",
    "\n",
    "Exam 1  \n",
    "Problem 3\n",
    "\n",
    "10/15/19\n",
    "'''\n",
    "\n",
    "\n",
    "import numpy as np\n",
    "\n",
    "\n",
    "def householder(A):\n",
    "    \n",
    "    for i in range(len(A)-2):\n",
    "        alpha = -(A[1][0]/abs(A[1][0]))*(np.sum(A[1:4,0]**2)**.5)\n",
    "        r = (.5*alpha**2-.5*A[1][0]*alpha)**.5\n",
    "        w = np.zeros(len(A))\n",
    "        w[1] = (A[1][0]-alpha)/(2*r)\n",
    "        for j in range(len(A)-2):\n",
    "            w[j+2] = (A[j+2][0])/(2*r)\n",
    "        wt = w.reshape(len(A),1)\n",
    "        P = np.eye(len(A))-2*wt*w\n",
    "        A = np.matmul(P,np.matmul(A,P))\n",
    "    \n",
    "    return np.round(A,5)\n"
   ]
  }
 ],
 "metadata": {
  "kernelspec": {
   "display_name": "Python 3",
   "language": "python",
   "name": "python3"
  },
  "language_info": {
   "codemirror_mode": {
    "name": "ipython",
    "version": 3
   },
   "file_extension": ".py",
   "mimetype": "text/x-python",
   "name": "python",
   "nbconvert_exporter": "python",
   "pygments_lexer": "ipython3",
   "version": "3.7.1"
  }
 },
 "nbformat": 4,
 "nbformat_minor": 2
}
