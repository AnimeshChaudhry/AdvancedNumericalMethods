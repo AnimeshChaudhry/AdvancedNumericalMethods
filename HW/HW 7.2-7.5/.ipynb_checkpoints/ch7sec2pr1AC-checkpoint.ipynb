{
 "cells": [
  {
   "cell_type": "code",
   "execution_count": 1,
   "metadata": {},
   "outputs": [
    {
     "data": {
      "text/plain": [
       "'\\nName: Animesh Chaudhry \\n\\nClass: Math 440\\n\\nQuestions: Find ||*||oo and ||*||2 norms\\n\\n'"
      ]
     },
     "execution_count": 1,
     "metadata": {},
     "output_type": "execute_result"
    }
   ],
   "source": [
    "'''\n",
    "Name: Animesh Chaudhry \n",
    "\n",
    "Class: Math 440\n",
    "\n",
    "Questions: Find ||*||oo and ||*||2 norms\n",
    "            \n",
    "            a) x = (3, −4, 0, 3/2)^t \n",
    "            \n",
    "            b) x = (2, 1, −3, 4)^t\n",
    "            \n",
    "            c) x = (sink, cosk, 2^k)^t for a fixed positive integer k\n",
    "            \n",
    "            d) x = (4/(k + 1), 2/k^2 , k^2*e^−k)^t for a fixed positive integer k\n",
    "\n",
    "'''"
   ]
  },
  {
   "cell_type": "code",
   "execution_count": 25,
   "metadata": {},
   "outputs": [
    {
     "name": "stdout",
     "output_type": "stream",
     "text": [
      "Part a - The L 2 and L infinity norms of [3, -4, 0, 0.75] are: (5.055937104039171, 4.0).\n",
      "Part b - The L 2 and L infinity norms of [2, 1, -3, 4] are: (5.477225575051661, 4).\n"
     ]
    }
   ],
   "source": [
    "import numpy as np\n",
    "import math\n",
    "\n",
    "# # gets number of elements \n",
    "# n = int(input(\"Enter number of elements for V : \")) \n",
    "    \n",
    "# #reads the vector\n",
    "# a = list(map(float,input(\"Enter values for V: \").split()))[:n]\n",
    "\n",
    "a = [3, -4, 0, 3/4]\n",
    "b = [2, 1, -3, 4]\n",
    "\n",
    "\n",
    "def print_Answer(part, V):\n",
    "    print('Part {} - The L 2 and L infinity norms of {} are: {}.'.format(part, V, L_2_Norm(V)))\n",
    "\n",
    "def L_Norm(V):\n",
    "    \n",
    "    s = 0\n",
    "    x = np.array(V)\n",
    "    \n",
    "    for i in x:\n",
    "        s += i**2\n",
    "    return math.sqrt(s), max(abs(x))\n",
    "        \n",
    "        \n",
    "print_Answer('a', a)\n",
    "\n",
    "print_Answer('b', b)"
   ]
  }
 ],
 "metadata": {
  "kernelspec": {
   "display_name": "Python 3",
   "language": "python",
   "name": "python3"
  },
  "language_info": {
   "codemirror_mode": {
    "name": "ipython",
    "version": 3
   },
   "file_extension": ".py",
   "mimetype": "text/x-python",
   "name": "python",
   "nbconvert_exporter": "python",
   "pygments_lexer": "ipython3",
   "version": "3.7.1"
  }
 },
 "nbformat": 4,
 "nbformat_minor": 2
}
