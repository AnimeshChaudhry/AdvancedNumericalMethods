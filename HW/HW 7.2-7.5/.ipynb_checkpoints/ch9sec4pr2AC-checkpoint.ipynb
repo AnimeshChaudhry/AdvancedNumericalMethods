{
 "cells": [
  {
   "cell_type": "code",
   "execution_count": null,
   "metadata": {},
   "outputs": [],
   "source": []
  },
  {
   "cell_type": "code",
   "execution_count": null,
   "metadata": {},
   "outputs": [],
   "source": [
    "'''\n",
    "Use Householder’s method to produce a symmetric tridiagonal matrix that is similar to the given\n",
    "matrix.\n",
    "'''\n",
    "import numpy as np\n",
    "from string import ascii_lowercase\n",
    "\n",
    "def householder(A):\n",
    "    \n",
    "    for i in range(len(A)-2):\n",
    "        alpha = -(A[1][0]/abs(A[1][0]))*(np.sum(A[1:4,0]**2)**.5)\n",
    "        r = (.5*alpha**2-.5*A[1][0]*alpha)**.5\n",
    "        w = np.zeros(len(A))\n",
    "        w[1] = (A[1][0]-alpha)/(2*r)\n",
    "        for j in range(len(A)-2):\n",
    "            w[j+2] = (A[j+2][0])/(2*r)\n",
    "        wt = w.reshape(len(A),1)\n",
    "        P = np.eye(len(A))-2*wt*w\n",
    "        A = np.matmul(P,np.matmul(A,P))\n",
    "    \n",
    "    return np.round(A,5)\n",
    "\n",
    "\n",
    "\n",
    "a = np.array([[4,-1,-1,0], [-1,4,0,-1], [-1,0,4,-1],[0,-1,-1,4]])\n",
    "b = np.array([[5,-2,-0.5,1.5], [-2,5,1.5,-0.5], [-0.5,1.5,5,-2],[1.5,-0.5,-2,5]])\n",
    "c = np.array([[8,0.25,0.5,2,-1], [0.24,-4,0,1,2], [0.5,0,5,0.75,-1],[2,1,-.75,5,-0.5], [-1,2,-1,-0.5,6]])\n",
    "d = np.array([[2,-1,-1,0,0], [-1,3,0,-2,0], [-1,0,4,2,1],[0,-2,2,8,3], [0,0,1,3,9]])\n",
    "\n",
    "def print_hld(A, part):\n",
    "    print(f\"-------------------------------------------------\\n{part}: \\n{A}\\n \\nSymmetric tridiagonal matrix that is similar to {part}: \\n{householder(A)}\\n-------------------------------------------------\\n\\n\\n\")\n",
    "\n",
    "matrices = [a,b,c,d]\n",
    "for c, i in zip(matrices, ascii_lowercase):\n",
    "    print_hld(c, i)\n",
    "\n"
   ]
  }
 ],
 "metadata": {
  "kernelspec": {
   "display_name": "Python 3",
   "language": "python",
   "name": "python3"
  },
  "language_info": {
   "codemirror_mode": {
    "name": "ipython",
    "version": 3
   },
   "file_extension": ".py",
   "mimetype": "text/x-python",
   "name": "python",
   "nbconvert_exporter": "python",
   "pygments_lexer": "ipython3",
   "version": "3.7.1"
  }
 },
 "nbformat": 4,
 "nbformat_minor": 2
}
