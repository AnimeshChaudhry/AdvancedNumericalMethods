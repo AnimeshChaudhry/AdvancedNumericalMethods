{
 "cells": [
  {
   "cell_type": "code",
   "execution_count": 33,
   "metadata": {},
   "outputs": [
    {
     "data": {
      "text/plain": [
       "'\\nStudent Name: Animesh Chaudhry \\nClass: Math 440\\n\\nChapter 2 \\nSection 3 \\nProblem 3\\n\\nUse the Secant method to find solutions accurate to within 10 −4 for the following problems:\\n\\na) x 3 − 2x 2 − 5 = 0, on [1, 4]\\nb) x 3 + 3x 2 − 1 = 0, on [−3, −2]\\nc) x − cos x = 0, on [0, π/2]\\nd) x − 0.8 − 0.2 sin x = 0, on [0, π/2]\\n'"
      ]
     },
     "execution_count": 33,
     "metadata": {},
     "output_type": "execute_result"
    }
   ],
   "source": [
    "'''\n",
    "Student Name: Animesh Chaudhry \n",
    "Class: Math 440\n",
    "\n",
    "Chapter 2 \n",
    "Section 3 \n",
    "Problem 3\n",
    "\n",
    "Use the Secant method to find solutions accurate to within 10 −4 for the following problems:\n",
    "\n",
    "a) x 3 − 2x 2 − 5 = 0, on [1, 4]\n",
    "b) x 3 + 3x 2 − 1 = 0, on [−3, −2]\n",
    "c) x − cos x = 0, on [0, π/2]\n",
    "d) x − 0.8 − 0.2 sin x = 0, on [0, π/2]\n",
    "'''\n"
   ]
  },
  {
   "cell_type": "code",
   "execution_count": 34,
   "metadata": {},
   "outputs": [
    {
     "name": "stdout",
     "output_type": "stream",
     "text": [
      "Part a: Secant Method on [1.000000, 4.000000] gives root: 2.690647 using 11 iterations\n",
      "Part b: Secant Method on [-3.000000, -2.000000] gives root: -2.879385 using 8 iterations\n",
      "Part c: Secant Method on [0.000000, 1.570796] gives root: 0.739085 using 6 iterations\n",
      "Part c: Secant Method on [0.000000, 1.570796] gives root: 0.964334 using 5 iterations\n"
     ]
    }
   ],
   "source": [
    "import math\n",
    "\n",
    "func_a = lambda x: x**3 - 2*(x**2) - 5\n",
    "func_b = lambda x: x**3 + 3*(x**2) - 1\n",
    "func_c = lambda x: x - math.cos(x)\n",
    "func_d = lambda x: x - 0.8 - 0.2*(math.sin(x))\n",
    "\n",
    "\n",
    "def print_answer(part, a, b, i, sol):\n",
    "    if i > 0:    # Solution found\n",
    "        print('Part {}: Secant Method on [{:f}, {:f}] gives root: {:f} using {} iterations'.format(part, a, b, sol, i))\n",
    "    else:\n",
    "        print(\"No Solution found!\")\n",
    "    \n",
    "\n",
    "\n",
    "def secant(f, a, b, tol):\n",
    "    f_a = f(a)\n",
    "    f_b = f(b)\n",
    "    i = 1\n",
    "    while abs(f_a) > tol and i < 100:\n",
    "        try:\n",
    "            denominator = float(f_b - f_a)/(b - a)\n",
    "            x = b - float(f_b)/denominator\n",
    "        except ZeroDivisionError:\n",
    "            print(\"Denominator zero for x = \", x)\n",
    "            sys.exit(1)     # Exit with error\n",
    "        a = b\n",
    "        b = x\n",
    "        f_a = f_b\n",
    "        f_b = f(b)\n",
    "        i += 1\n",
    "    return x, i\n",
    "\n",
    "\n",
    "'''PART A'''\n",
    "print_answer('a', 1, 4, secant(func_a, 1, 4, 1.0e-4)[1], secant(func_a, 1, 4, 1.0e-4)[0])\n",
    "\n",
    "'''PART B'''\n",
    "print_answer('b', -3, -2, secant(func_b, -3, -2, 1.0e-4)[1], secant(func_b, -3, -2, 1.0e-4)[0])\n",
    "\n",
    "'''PART C'''\n",
    "print_answer('c', 0, math.pi/2, secant(func_c, 0, math.pi/2, 1.0e-4)[1], secant(func_c, 0, math.pi/2, 1.0e-4)[0])\n",
    "\n",
    "'''PART D'''\n",
    "print_answer('c', 0, math.pi/2, secant(func_d, 0, math.pi/2, 1.0e-4)[1], secant(func_d, 0, math.pi/2, 1.0e-4)[0])\n"
   ]
  },
  {
   "cell_type": "code",
   "execution_count": null,
   "metadata": {},
   "outputs": [],
   "source": []
  }
 ],
 "metadata": {
  "kernelspec": {
   "display_name": "Python 3",
   "language": "python",
   "name": "python3"
  },
  "language_info": {
   "codemirror_mode": {
    "name": "ipython",
    "version": 3
   },
   "file_extension": ".py",
   "mimetype": "text/x-python",
   "name": "python",
   "nbconvert_exporter": "python",
   "pygments_lexer": "ipython3",
   "version": "3.7.1"
  }
 },
 "nbformat": 4,
 "nbformat_minor": 2
}
