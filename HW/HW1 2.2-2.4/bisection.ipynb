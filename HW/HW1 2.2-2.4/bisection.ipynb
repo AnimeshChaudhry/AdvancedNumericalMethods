{
 "cells": [
  {
   "cell_type": "code",
   "execution_count": 1,
   "metadata": {},
   "outputs": [
    {
     "data": {
      "text/plain": [
       "'\\nStudent Name: Animesh Chaudhry \\nClass: Math 440\\n\\nChapter 2 \\nSection 2 \\nProblem 3\\n\\nUse the Bisection method to find solutions accurate to within 10^−2 for x^3 − 7x^2 + 14x − 6 = 0 on\\neach interval.\\na. [0, 1]\\nb. [1, 3.2]\\nc. [3.2, 4]\\n'"
      ]
     },
     "execution_count": 1,
     "metadata": {},
     "output_type": "execute_result"
    }
   ],
   "source": [
    "'''\n",
    "Student Name: Animesh Chaudhry \n",
    "Class: Math 440\n",
    "\n",
    "Chapter 2 \n",
    "Section 2 \n",
    "Problem 3\n",
    "\n",
    "Use the Bisection method to find solutions accurate to within 10^−2 for x^3 − 7x^2 + 14x − 6 = 0 on\n",
    "each interval.\n",
    "a. [0, 1]\n",
    "b. [1, 3.2]\n",
    "c. [3.2, 4]\n",
    "'''\n",
    "\n",
    "\n"
   ]
  },
  {
   "cell_type": "code",
   "execution_count": 1,
   "metadata": {},
   "outputs": [
    {
     "name": "stdout",
     "output_type": "stream",
     "text": [
      "Bisection Method on [0, 1] gives root: 0.5703125\n",
      "Bisection Method on [1, 3.2] gives root: 2.93359375\n",
      "Bisection Method on [3.2, 4] gives root: 3.3062500000000004\n"
     ]
    }
   ],
   "source": [
    "import numpy as np \n",
    "\n",
    "def f(x):\n",
    "    return  x**3 - 7*(x**2) + 14*x - 6\n",
    "\n",
    "def print_answer(a, b, part):\n",
    "    print('Bisection Method on [{}, {}] gives root: {}'.format(a, b, part))    \n",
    "\n",
    "def bisection(a, b, tol):\n",
    "    fl = a\n",
    "    fr = b\n",
    "    \n",
    "    while(np.abs(fl-fr)>=tol):\n",
    "        p = a + ((b-a)/2)\n",
    "        \n",
    "        c = (fl+fr)/2\n",
    "        check = f(fl)*f(c)\n",
    "        \n",
    "        if check > tol:\n",
    "            fl = c\n",
    "        else:\n",
    "            if check < tol:\n",
    "                fr = c\n",
    "    \n",
    "                \n",
    "    return c\n",
    "\n",
    "print_answer(0, 1, bisection(0, 1, 1e-2))\n",
    "print_answer(1, 3.2, bisection(1, 3.2, 1e-2))\n",
    "print_answer(3.2, 4, bisection(3.2, 4, 1e-2))\n",
    "\n"
   ]
  }
 ],
 "metadata": {
  "kernelspec": {
   "display_name": "Python 3",
   "language": "python",
   "name": "python3"
  },
  "language_info": {
   "codemirror_mode": {
    "name": "ipython",
    "version": 3
   },
   "file_extension": ".py",
   "mimetype": "text/x-python",
   "name": "python",
   "nbconvert_exporter": "python",
   "pygments_lexer": "ipython3",
   "version": "3.7.1"
  }
 },
 "nbformat": 4,
 "nbformat_minor": 2
}
