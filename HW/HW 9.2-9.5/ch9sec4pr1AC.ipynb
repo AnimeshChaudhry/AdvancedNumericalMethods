{
 "cells": [
  {
   "cell_type": "code",
   "execution_count": 16,
   "metadata": {},
   "outputs": [
    {
     "data": {
      "text/plain": [
       "'\\nAnimesh Chaudhry \\nHW 3\\nMath 440 \\n10/20/2019\\nCh 9  Section 4 Problem 1 and 2\\n'"
      ]
     },
     "execution_count": 16,
     "metadata": {},
     "output_type": "execute_result"
    }
   ],
   "source": [
    "'''\n",
    "Animesh Chaudhry \n",
    "HW 3\n",
    "Math 440 \n",
    "10/20/2019\n",
    "Ch 9  Section 4 Problem 1\n",
    "'''"
   ]
  },
  {
   "cell_type": "code",
   "execution_count": 17,
   "metadata": {},
   "outputs": [
    {
     "name": "stdout",
     "output_type": "stream",
     "text": [
      "-------------------------------------------------\n",
      "a: \n",
      "[[12 10  4]\n",
      " [10  8 -5]\n",
      " [ 4 -5  3]]\n",
      " \n",
      "Symmetric tridiagonal matrix that is similar to a: \n",
      "[[ 12.      -10.77033   0.     ]\n",
      " [-10.77033   3.86207   5.34483]\n",
      " [  0.        5.34483   7.13793]]\n",
      "-------------------------------------------------\n",
      "\n",
      "\n",
      "\n",
      "-------------------------------------------------\n",
      "b: \n",
      "[[ 2 -1 -1]\n",
      " [-1  2 -1]\n",
      " [-1 -1  2]]\n",
      " \n",
      "Symmetric tridiagonal matrix that is similar to b: \n",
      "[[ 2.       1.41421  0.     ]\n",
      " [ 1.41421  1.      -0.     ]\n",
      " [ 0.      -0.       3.     ]]\n",
      "-------------------------------------------------\n",
      "\n",
      "\n",
      "\n",
      "-------------------------------------------------\n",
      "c: \n",
      "[[1 1 1]\n",
      " [1 1 0]\n",
      " [1 0 1]]\n",
      " \n",
      "Symmetric tridiagonal matrix that is similar to c: \n",
      "[[ 1.      -1.41421  0.     ]\n",
      " [-1.41421  1.      -0.     ]\n",
      " [ 0.      -0.       1.     ]]\n",
      "-------------------------------------------------\n",
      "\n",
      "\n",
      "\n",
      "-------------------------------------------------\n",
      "d: \n",
      "[[ 4.75  2.25 -0.25]\n",
      " [ 2.25  4.75  1.25]\n",
      " [-0.25  1.25  4.75]]\n",
      " \n",
      "Symmetric tridiagonal matrix that is similar to d: \n",
      "[[ 4.75    -2.26385 -0.     ]\n",
      " [-2.26385  4.47561 -1.21951]\n",
      " [-0.      -1.21951  5.02439]]\n",
      "-------------------------------------------------\n",
      "\n",
      "\n",
      "\n"
     ]
    }
   ],
   "source": [
    "'''\n",
    "Use Householder’s method to produce a symmetric tridiagonal matrix that is similar to the given\n",
    "matrix.\n",
    "'''\n",
    "import numpy as np\n",
    "from string import ascii_lowercase\n",
    "\n",
    "def householder(A):\n",
    "    \n",
    "    for i in range(len(A)-2):\n",
    "        alpha = -(A[1][0]/abs(A[1][0]))*(np.sum(A[1:4,0]**2)**.5)\n",
    "        r = (.5*alpha**2-.5*A[1][0]*alpha)**.5\n",
    "        w = np.zeros(len(A))\n",
    "        w[1] = (A[1][0]-alpha)/(2*r)\n",
    "        for j in range(len(A)-2):\n",
    "            w[j+2] = (A[j+2][0])/(2*r)\n",
    "        wt = w.reshape(len(A),1)\n",
    "        P = np.eye(len(A))-2*wt*w\n",
    "        A = np.matmul(P,np.matmul(A,P))\n",
    "    \n",
    "    return np.round(A,5)\n",
    "\n",
    "\n",
    "a = np.array([[12, 10, 4], [10,8,-5],[4,-5,3]])\n",
    "b = np.array([[2, -1, -1], [-1,2,-1],[-1,-1,2]])\n",
    "c = np.array([[1, 1, 1], [1,1, 0],[1,0,1]])\n",
    "d = np.array([[4.75, 2.25, -0.25], [2.25,4.75,1.25],[-0.25,1.25,4.75]])\n",
    "\n",
    "\n",
    "def print_hld(A, part):\n",
    "    print(f\"-------------------------------------------------\\n{part}: \\n{A}\\n \\nSymmetric tridiagonal matrix that is similar to {part}: \\n{householder(A)}\\n-------------------------------------------------\\n\\n\\n\")\n",
    "\n",
    "matrices = [a,b,c,d]\n",
    "for c, i in zip(matrices, ascii_lowercase):\n",
    "    print_hld(c, i)\n",
    "\n"
   ]
  }
 ],
 "metadata": {
  "kernelspec": {
   "display_name": "Python 3",
   "language": "python",
   "name": "python3"
  },
  "language_info": {
   "codemirror_mode": {
    "name": "ipython",
    "version": 3
   },
   "file_extension": ".py",
   "mimetype": "text/x-python",
   "name": "python",
   "nbconvert_exporter": "python",
   "pygments_lexer": "ipython3",
   "version": "3.7.1"
  }
 },
 "nbformat": 4,
 "nbformat_minor": 2
}
