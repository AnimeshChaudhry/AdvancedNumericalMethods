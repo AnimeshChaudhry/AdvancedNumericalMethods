{
 "cells": [
  {
   "cell_type": "code",
   "execution_count": 1,
   "metadata": {},
   "outputs": [
    {
     "data": {
      "text/plain": [
       "\"\\n----------------------------------------------------------------------------------------------------\\n\\nQuestion: Use the Nonlinear Finite-Difference method with h = 0.05 to approximate the solution to the \\nboundary value problem \\n\\ny'' = −(y')^2 − y + ln(x),  for 1 ≤ x ≤ 2 with y(1) = 0 and y(2) = ln 2\\n\\nCompare your results to the exact solution y = ln(x).\\n\\nCH-11 SEC 5 PR 1\\n\\nGuide: No need to run specific functions, \\n        just run the whole python file and the answers will be outputted. \\n\\n\""
      ]
     },
     "execution_count": 1,
     "metadata": {},
     "output_type": "execute_result"
    }
   ],
   "source": [
    "'''\n",
    "----------------------------------------------------------------------------------------------------\n",
    "\n",
    "Question: Use the Nonlinear Finite-Difference method with h = 0.05 to approximate the solution to the \n",
    "boundary value problem \n",
    "\n",
    "y'' = −(y')^2 − y + ln(x),  for 1 ≤ x ≤ 2 with y(1) = 0 and y(2) = ln 2\n",
    "\n",
    "Compare your results to the exact solution y = ln(x).\n",
    "\n",
    "CH-11 SEC 5 PR 1\n",
    "\n",
    "Guide: No need to run specific functions, \n",
    "        just run the whole python file and the answers will be outputted. \n",
    "\n",
    "'''"
   ]
  },
  {
   "cell_type": "code",
   "execution_count": 2,
   "metadata": {},
   "outputs": [
    {
     "name": "stdout",
     "output_type": "stream",
     "text": [
      "Non-Linear Finite Difference method for ln(x)\n",
      "\n",
      "    t[i]        w   actual    error\n",
      "0   1.00  0.00000  0.00000  0.00000\n",
      "1   1.05  0.03267  0.04879  0.01612\n",
      "2   1.10  0.06533  0.09531  0.02998\n",
      "3   1.15  0.09802  0.13976  0.04175\n",
      "4   1.20  0.13072  0.18232  0.05160\n",
      "5   1.25  0.16341  0.22314  0.05973\n",
      "6   1.30  0.19602  0.26236  0.06635\n",
      "7   1.35  0.22844  0.30010  0.07167\n",
      "8   1.40  0.26053  0.33647  0.07594\n",
      "9   1.45  0.29214  0.37156  0.07943\n",
      "10  1.50  0.32302  0.40547  0.08244\n",
      "11  1.55  0.35292  0.43825  0.08534\n",
      "12  1.60  0.38149  0.47000  0.08851\n",
      "13  1.65  0.40832  0.50078  0.09246\n",
      "14  1.70  0.43287  0.53063  0.09776\n",
      "15  1.75  0.45449  0.55962  0.10513\n",
      "16  1.80  0.47234  0.58779  0.11545\n",
      "17  1.85  0.48542  0.61519  0.12977\n",
      "18  1.90  0.49247  0.64185  0.14938\n",
      "19  1.95  0.49197  0.66783  0.17586\n",
      "20  2.00  0.69315  0.69315  0.00000\n",
      "\n",
      "\n"
     ]
    }
   ],
   "source": [
    "import numpy as np\n",
    "from pandas import DataFrame as df\n",
    "from numpy.linalg import inv\n",
    "\n",
    "def nonlin_Fin_Diff(f,a,b,alpha,beta,h=0.05):\n",
    "    x = np.arange(a,b+h,h)\n",
    "    N = len(x)-1\n",
    "    J = np.zeros([N,N])\n",
    "    F = np.zeros(N)\n",
    "    \n",
    "    w = {}\n",
    "    for i in range(N+2):\n",
    "        w[i] = []\n",
    "        \n",
    "    w[0].append(alpha)\n",
    "    for i in range(N):\n",
    "        w[0].append(((beta-alpha)/(b-a))*(x[i+1]-b) + beta)\n",
    "    w[0].append(beta)\n",
    "    \n",
    "    for j in range(N):\n",
    "\n",
    "        for i in range(N):\n",
    "            F[i] = (-w[j][i] + 2*w[j][i+1] - w[j][i+2] + (h**2)*f(x[i+1], w[j][i+2], ((w[j][i+2]-w[j][i])/2*h)))\n",
    "        F.reshape((N, 1))\n",
    "        \n",
    "        #Start constructing the jacobian\n",
    "        for i in range(N):\n",
    "            J[i][i] = 2-h**2\n",
    "        for i in range(1,N):\n",
    "            J[i][i-1] = -1 + w[j][i+1] + w[j][i-1]\n",
    "        for i in range(1,N):\n",
    "            J[i-1][i] = -1 - w[j][i+1] + w[j][i-1]\n",
    "            \n",
    "        if(type(w[j]) == list):\n",
    "            w[j].pop(0)\n",
    "            w[j].pop()\n",
    "        else:\n",
    "            w[j] = np.delete(w[j], 0)\n",
    "            w[j] = np.delete(w[j],-1)\n",
    "        w[j+1] = w[j] - np.matmul(np.linalg.inv(J),F)\n",
    "        w[j+1] = np.insert(w[j+1],0,alpha)\n",
    "        w[j+1] = np.insert(w[j+1],-1,beta)\n",
    "\n",
    "    w[N-1] = np.insert(w[N-1],0,alpha)\n",
    "    return w[N-1].tolist()\n",
    "\n",
    "####################################################################################################\n",
    "\n",
    "\n",
    "a,b,h,alpha,beta = 1,2,0.05,0,np.log(2)\n",
    "f = lambda x,y,yp: -(yp)**2 - y + np.log(x)\n",
    "actual = lambda x:np.log(x)\n",
    "\n",
    "\n",
    "def ex(actual,f,a,b,alpha,beta,h=0.05):\n",
    "    t = np.arange(a,b+h,h)\n",
    "    print(f\"Non-Linear Finite Difference method for ln(x)\\n\")\n",
    "    w = nonlin_Fin_Diff(f,a,b,alpha,beta,h=0.05)\n",
    "    data = {'t[i]':t,\n",
    "            'w':w,\n",
    "           'actual': actual(t),\n",
    "           'error':abs(w-actual(t))}\n",
    "    print(f\"{df(data).round(5)}\\n\\n\")\n",
    "    \n",
    "ex(actual,f,a,b,alpha,beta,h=0.05)   "
   ]
  }
 ],
 "metadata": {
  "kernelspec": {
   "display_name": "Python 3",
   "language": "python",
   "name": "python3"
  },
  "language_info": {
   "codemirror_mode": {
    "name": "ipython",
    "version": 3
   },
   "file_extension": ".py",
   "mimetype": "text/x-python",
   "name": "python",
   "nbconvert_exporter": "python",
   "pygments_lexer": "ipython3",
   "version": "3.7.1"
  }
 },
 "nbformat": 4,
 "nbformat_minor": 2
}
