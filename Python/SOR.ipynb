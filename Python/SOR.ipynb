{
 "cells": [
  {
   "cell_type": "code",
   "execution_count": 1,
   "metadata": {},
   "outputs": [
    {
     "name": "stdout",
     "output_type": "stream",
     "text": [
      "Solution: ([0.7866296095415453, -1.0025667014636512, 1.866323443319285, 1.9125964381862044, 1.9897152869719108], 9)\n",
      "\n",
      "Optimal Omega value is 1.0299999999999996 with 9 iterations.\n"
     ]
    }
   ],
   "source": [
    "'''\n",
    "SOR (successive over-relaxation is a variant of the \n",
    "Gauss–Seidel method for solving a linear system of \n",
    "equations, resulting in faster convergence. A similar \n",
    "method can be used for any slowly converging iterative process.)\n",
    "'''\n",
    "\n",
    "import numpy as np\n",
    "import random\n",
    "import decimal\n",
    "\n",
    "def sor(m, w=1.0299999999999996, x0=None, eps=1e-5, max_itr=100):\n",
    "  \"\"\"\n",
    "  m  : coefficient matrix\n",
    "  w  : omega\n",
    "  x0 : initial vector\n",
    "  eps: tolerance\n",
    "  max_iter: max iterations \n",
    "  \n",
    "  Returns \n",
    "      solution to the system of linear equation\n",
    "  \"\"\"\n",
    "  n  = len(m)\n",
    "  x0 = [0] * n if x0 == None else x0\n",
    "  x1 = x0[:]\n",
    "  itr = 0\n",
    "  for __ in range(max_itr):\n",
    "    for i in range(n):\n",
    "      s = sum(-m[i][j] * x1[j] for j in range(n) if i != j)\n",
    "      x1[i] = w*(m[i][n]+s)/m[i][i] + (1-w)*x0[i]\n",
    "    itr+=1\n",
    "    if all(abs(x1[i]-x0[i]) < eps for i in range(n)):\n",
    "      return x1, itr\n",
    "    x0 = x1[:]\n",
    "  #raise ValueError('Solution does not converge')\n",
    "  \n",
    "  return [], 101\n",
    "\n",
    "def find_optimal_omega():\n",
    "    '''\n",
    "    Tries random omega values between 0 and 2\n",
    "    '''\n",
    "    omega_vals = []\n",
    "    for i in np.arange(0.1, 2, 0.01):\n",
    "        omega_vals.append(i)\n",
    "    sor_itr = {}\n",
    "    for i in omega_vals:\n",
    "        sor_itr[sor(m, i)[1]] = i\n",
    "    return min(sor_itr), sor_itr[min(sor_itr)]\n",
    "\n",
    "\n",
    "\n",
    "\n",
    "if __name__ == '__main__':\n",
    "\n",
    "  m = [[4,1,1,0,1, 6], [-1,-3,1,1,0, 6], [2,1,5,-1, -1, 6], [-1,-1,-1,4,0,6],[0,2,-1,1,4,6]]\n",
    "\n",
    "  print(\"Solution:\", sor(m))\n",
    "  print(\"\\nOptimal Omega value is {1} with {0} iterations.\".format(find_optimal_omega()[0], find_optimal_omega()[1])) "
   ]
  }
 ],
 "metadata": {
  "kernelspec": {
   "display_name": "Python 3",
   "language": "python",
   "name": "python3"
  },
  "language_info": {
   "codemirror_mode": {
    "name": "ipython",
    "version": 3
   },
   "file_extension": ".py",
   "mimetype": "text/x-python",
   "name": "python",
   "nbconvert_exporter": "python",
   "pygments_lexer": "ipython3",
   "version": "3.7.1"
  }
 },
 "nbformat": 4,
 "nbformat_minor": 2
}
