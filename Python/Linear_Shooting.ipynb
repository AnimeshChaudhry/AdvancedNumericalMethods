{
 "cells": [
  {
   "cell_type": "code",
   "execution_count": 3,
   "metadata": {},
   "outputs": [
    {
     "data": {
      "text/plain": [
       "\"\\n----------------------------------------------------------------------------------------------------------\\n\\nQuestion: Use the Linear Shooting method to approximate the exact solution y = e^−10x to the boundary-value\\nproblem\\n\\ny'' = 100y,  for 0 ≤ x ≤ 1 with,  y(0) = 1  and  y(1) = e^-10 . \\n\\nUse (a) h = 0.1\\n            \\n\\nCH-11 SEC 2 PR 5a\\n\\n\\n\""
      ]
     },
     "execution_count": 3,
     "metadata": {},
     "output_type": "execute_result"
    }
   ],
   "source": [
    "'''\n",
    "----------------------------------------------------------------------------------------------------------\n",
    "\n",
    "Question: Use the Linear Shooting method to approximate the exact solution y = e^−10x to the boundary-value\n",
    "problem\n",
    "\n",
    "y'' = 100y,  for 0 ≤ x ≤ 1 with,  y(0) = 1  and  y(1) = e^-10 . \n",
    "\n",
    "Use (a) h = 0.1\n",
    "            \n",
    "\n",
    "CH-11 SEC 2 PR 5a\n",
    "\n",
    "\n",
    "'''"
   ]
  },
  {
   "cell_type": "code",
   "execution_count": 4,
   "metadata": {},
   "outputs": [],
   "source": [
    "from pandas import DataFrame as df\n",
    "import numpy as np\n",
    "import math\n",
    "\n",
    "def Lin_Shoot(p,q,r,a,b,alpha,beta,h=0.1):\n",
    "    N=int((b-a)/h)\n",
    "    u1p=lambda x,u1,u2,u3,u4: u2\n",
    "    u2p=lambda x,u1,u2,u3,u4: p(x)*u2+q(x)*u1+r(x)\n",
    "    u3p=lambda x,u1,u2,u3,u4: u4\n",
    "    u4p=lambda x,u1,u2,u3,u4: p(x)*u4+q(x)*u3\n",
    "    f = [u1p,u2p,u3p,u4p]\n",
    "    y1b,y2b=rko4_fourth(f,a,b,[alpha,0,0,1],h)\n",
    "    y1b,y2b = np.array(y1b), np.array(y2b)\n",
    "    Y=y1b+((beta-y1b[-1])/y2b[-1])*y2b\n",
    "    return Y.tolist()\n",
    "\n",
    "\n",
    "def rko4_fourth(f, a, b, alpha, h):\n",
    "    \n",
    "    num_equations = len(f)\n",
    "    init_num = len(alpha)\n",
    "    t = np.arange(a,b+h,h)\n",
    "    w = np.zeros((init_num,len(t)))\n",
    "    k1 = np.zeros([init_num]); k2 = np.zeros([init_num])\n",
    "    k3 = np.zeros([init_num]); k4 = np.zeros([init_num])\n",
    "    \n",
    "    for i in range(init_num):\n",
    "        w[i,0] = alpha[i]\n",
    "        \n",
    "    for j in range(len(t)-1):\n",
    "        \n",
    "        for i in range(num_equations):\n",
    "            k1[i] = h*f[i](t[j],w[0,j],w[1,j],w[2,j])\n",
    "        for i in range(num_equations):\n",
    "            k2[i] = h*f[i](t[j]+(h/2),w[0,j]+(k1[0]/2),w[1,j]+(k1[1]/2),w[2,j]+(k1[2]/2))\n",
    "        for i in range(num_equations):\n",
    "            k3[i] = h*f[i](t[j]+(h/2),w[0,j]+(k2[0]/2),w[1,j]+(k2[1]/2),w[2,j]+(k2[2]/2))\n",
    "        for i in range(num_equations):\n",
    "            k4[i] = h*f[i](t[j]+h,w[0,j]+k3[0],w[1,j]+k3[1],w[2,j]+k3[2])\n",
    "        for i in range(num_equations):\n",
    "            w[i,j+1] = w[i,j]+(1/6)*(k1[i]+(2*k2[i])+(2*k3[i])+k4[i])\n",
    "            \n",
    "    return w[(0,2),:]\n",
    "    \n",
    "        \n"
   ]
  }
 ],
 "metadata": {
  "kernelspec": {
   "display_name": "Python 3",
   "language": "python",
   "name": "python3"
  },
  "language_info": {
   "codemirror_mode": {
    "name": "ipython",
    "version": 3
   },
   "file_extension": ".py",
   "mimetype": "text/x-python",
   "name": "python",
   "nbconvert_exporter": "python",
   "pygments_lexer": "ipython3",
   "version": "3.7.1"
  }
 },
 "nbformat": 4,
 "nbformat_minor": 2
}
