{
 "cells": [
  {
   "cell_type": "code",
   "execution_count": 1,
   "metadata": {},
   "outputs": [
    {
     "data": {
      "text/plain": [
       "\"\\nStudent: Animesh Chaudhry \\nMATH 440\\nDate Due: 11:59PM Sunday December 22, 2019\\nFinal Exam Problem 7\\n\\nWrite a function file to solve any linear two-point boundary value \\nproblem using the nonlinear shooting method as described in class\\n\\n\\nTO RUN DO THE FOLLOWING:\\n\\nSet parameters: \\na,b,alpha,beta,h,k,u,v,w\\n\\nThen Call exfpr7AC(a,b,alpha,beta,h,k,u,v,w) with the desired parameters\\nfrom x'' = u(t) + v(t)x + w(t)x' , x(a) = α , x(b) = β\\n\\na,b are the bounds \\nα, β are the boundary conditions \\nh is the step size\\nk is the max iterations\\nu, v, and w are the lambda functions of t from the equation mentioned before\\n\""
      ]
     },
     "execution_count": 1,
     "metadata": {},
     "output_type": "execute_result"
    }
   ],
   "source": [
    "'''\n",
    "Solve any linear two-point boundary value \n",
    "problem using the nonlinear shooting method.\n",
    "\n",
    "\n",
    "TO RUN DO THE FOLLOWING:\n",
    "\n",
    "Set parameters: \n",
    "a,b,alpha,beta,h,k,u,v,w\n",
    "\n",
    "Then Call exfpr7AC(a,b,alpha,beta,h,k,u,v,w) with the desired parameters\n",
    "from x'' = u(t) + v(t)x + w(t)x' , x(a) = α , x(b) = β\n",
    "\n",
    "a,b are the bounds \n",
    "α, β are the boundary conditions \n",
    "h is the step size\n",
    "k is the k from t_k. The subindex\n",
    "u, v, and w are the lambda functions of t from the equation mentioned before\n",
    "\n",
    "********************************************************************************\n",
    "'''"
   ]
  },
  {
   "cell_type": "code",
   "execution_count": 1,
   "metadata": {},
   "outputs": [],
   "source": [
    "import numpy as np\n",
    "from pandas import DataFrame as df\n",
    "\n",
    "\n",
    "def Non_Lin_Shooting(a,b,alpha,beta,h,k,u,v,w,tol= 1e-4):\n",
    "    t = np.arange(a,b+h,h)\n",
    "    num = len(t)\n",
    "    w1 = np.zeros(num)  \n",
    "    w2 = np.zeros(num)\n",
    "    \n",
    "    # initial tk (t0)\n",
    "    tk = (beta - alpha)/(b - a)\n",
    "    \n",
    "    f1 = lambda t,x,xp: u(t) + v(t)*x + w(t)*xp\n",
    "    f2 = lambda t,x,xp: v(t)\n",
    "    f3 = lambda t,x,xp: w(t)\n",
    "    f = [f1,f2,f3]\n",
    "    \n",
    "    N = 1\n",
    "    k = 50\n",
    "    while N <= k:\n",
    "        w1[0] = alpha\n",
    "        w2[0] = tk\n",
    "        u1 = 0\n",
    "        u2 = 1\n",
    "        \n",
    "        # Evaluating Y\n",
    "        for i in range(num-1):\n",
    "            k11 = h*w2[i]\n",
    "            k12 = h*f[0](t[i],w1[i],w2[i])\n",
    "            k21 = h*(w2[i]+(k12/2))\n",
    "            k22 = h*f[0](t[i]+(h/2),w1[i]+(k11/2),w2[i]+(k12/2))\n",
    "            k31 = h*(w2[i]+(k22/2))\n",
    "            k32 = h*f[0](t[i]+(h/2),w1[i]+(k21/2),w2[i]+(k22/2))\n",
    "            k41 = h*(w2[i]+k32)\n",
    "            k42 = h*f[0](t[i]+h,w1[i]+k31,w2[i]+k32)\n",
    "            w1[i+1] = w1[i]+(1/6)*(k11+(2*k21)+(2*k31)+k41)\n",
    "            w2[i+1] = w2[i]+(1/6)*(k12+(2*k22)+(2*k32)+k42)\n",
    "            \n",
    "        # Evaluating Z\n",
    "        for i in range(num-1):\n",
    "            kp11 = h*u2\n",
    "            kp12 = h*(f[1](t[i],w1[i],w2[i])*u1 + f[2](t[i],w1[i],w2[i])*u2)\n",
    "            kp21 = h*(u2+(kp12/2))\n",
    "            kp22 = h*((f[1](t[i]+(h/2),w1[i],w2[i])*(u1+(kp11/2)))+f[2](t[i]+(h/2),w1[i],w2[i])*(u2+(kp12/2)))\n",
    "            kp31 = h*(u2+(kp22/2))\n",
    "            kp32 = h*((f[1](t[i]+(h/2),w1[i],w2[i])*(u1+(kp21/2)))+f[2](t[i]+(h/2),w1[i],w2[i])*(u2+(kp22/2)))\n",
    "            kp41 = h*(u2+kp32)\n",
    "            kp42 = h*(f[1](t[i]+h,w1[i],w2[i])*(u1+kp31)+f[2](t[i]+h,w1[i],w2[i])*(u2+kp32))\n",
    "            u1 = u1+(1/6)*(kp11+(2*kp21)+(2*kp31)+kp41)\n",
    "            u2 = u2+(1/6)*(kp12+(2*kp22)+(2*kp32)+kp42)\n",
    "            \n",
    "        r = np.abs(w1[num-1] - beta)\n",
    "        if r < tol:\n",
    "            t[-1] = t[-2] + 0.2\n",
    "            return t,w1,w2\n",
    "        # Next Tk\n",
    "        tk = tk - (w1[num-1] - beta)/u1\n",
    "        N = N+1   \n",
    "    return\n",
    "\n",
    "#####################################################################################################\n",
    "\n",
    "\n",
    "\n",
    "def ex(a,b,alpha,beta,h,k,u,v,w):\n",
    "    t,w_1,w_2 = Non_Lin_Shooting(a,b,alpha,beta,h,k,u,v,w)\n",
    "    print(f\"The Non-Linear Shooting Method\\n\")\n",
    "    data = {'t_k': t,\n",
    "            'w_1':w_1,\n",
    "            'w_2':w_2}\n",
    "    print(f\"{df(data).round(5)}\\n\\n\")\n",
    "    \n"
   ]
  }
 ],
 "metadata": {
  "kernelspec": {
   "display_name": "Python 3",
   "language": "python",
   "name": "python3"
  },
  "language_info": {
   "codemirror_mode": {
    "name": "ipython",
    "version": 3
   },
   "file_extension": ".py",
   "mimetype": "text/x-python",
   "name": "python",
   "nbconvert_exporter": "python",
   "pygments_lexer": "ipython3",
   "version": "3.7.1"
  }
 },
 "nbformat": 4,
 "nbformat_minor": 2
}
