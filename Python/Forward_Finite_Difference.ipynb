{
 "cells": [
  {
   "cell_type": "code",
   "execution_count": 1,
   "metadata": {},
   "outputs": [
    {
     "name": "stdout",
     "output_type": "stream",
     "text": [
      "The Forward-Difference method with h = 0.1, k = 0.2 and λ =k/h gives the results\n",
      "\n",
      "         w\n",
      "0  0.02496\n",
      "1  0.06215\n",
      "2  0.10495\n",
      "3  0.14983\n",
      "4  0.19477\n",
      "5  0.23855\n",
      "6  0.28033\n",
      "7  0.31950\n",
      "8  0.35558\n",
      "\n",
      "\n"
     ]
    }
   ],
   "source": [
    "from pandas import DataFrame as df\n",
    "import numpy as np\n",
    "\n",
    "\n",
    "\n",
    "\n",
    "def for_fin_diff(a,b,h,k,f,alpha):\n",
    "    x = np.linspace(a, b, num=11)[1:-1]\n",
    "    m = (len(x))\n",
    "    A = np.zeros((m,m))\n",
    "    w0 = np.zeros(m)\n",
    "                  \n",
    "    lamb = k/h\n",
    "    \n",
    "    for i in range(len(x)):\n",
    "        w0[i] = f(x[i])\n",
    "\n",
    "    A[0,0] = 2*lamb;\n",
    "    for i in range(1,m):\n",
    "        A[i,i] = 2*lamb\n",
    "        A[i,i-1] = -alpha\n",
    "        \n",
    "    w = np.linalg.solve(A, w0)\n",
    "    \n",
    "    return w\n",
    "\n",
    "\n",
    "\n",
    "\n",
    "\n",
    "##########################################################################\n",
    "\n",
    "a,b,h,k,f,alpha = 0,1,0.1,1/5,lambda x: np.sin(x), 2\n",
    "\n",
    "def ex(a,b,h,k,f,alpha):\n",
    "    w = for_fin_diff(a,b,h,k,f,alpha)\n",
    "    print(f\"The Forward-Difference method with h = {h}, k = {k} and λ =\\\n",
    "k/h gives the results\\n\")\n",
    "    data = {\"w\":w}\n",
    "    print(f\"{df(data).round(5)}\\n\\n\")\n",
    "\n",
    "\n",
    "ex(a,b,h,k,f,alpha)"
   ]
  }
 ],
 "metadata": {
  "kernelspec": {
   "display_name": "Python 3",
   "language": "python",
   "name": "python3"
  },
  "language_info": {
   "codemirror_mode": {
    "name": "ipython",
    "version": 3
   },
   "file_extension": ".py",
   "mimetype": "text/x-python",
   "name": "python",
   "nbconvert_exporter": "python",
   "pygments_lexer": "ipython3",
   "version": "3.7.1"
  }
 },
 "nbformat": 4,
 "nbformat_minor": 2
}
