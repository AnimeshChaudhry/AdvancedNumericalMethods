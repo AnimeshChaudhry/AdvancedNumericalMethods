{
 "cells": [
  {
   "cell_type": "code",
   "execution_count": 64,
   "metadata": {},
   "outputs": [],
   "source": [
    "'''\n",
    "The Householder reflection method of QR decomposition works by \n",
    "finding appropriate H matrices and multiplying them from the \n",
    "left by the original matrix A to construct the upper triangular matrix R\n",
    "'''\n",
    "\n",
    "'''\n",
    "CHANGES: Takes a regular array as input. Now the function tags r so that it can use it\n",
    "in the calculaion of w. Fixed some indexing errors as well. \n",
    "'''\n",
    "\n",
    "\n",
    "import numpy as np\n",
    "\n",
    "\n",
    "def Householder(A):\n",
    "    A = np.array(A)\n",
    "    \n",
    "    r = np.array([])\n",
    "    \n",
    "    n = len(A)\n",
    "    I = np.eye(n)\n",
    "    \n",
    "    for i in range(n-2):\n",
    "        w = np.zeros(n)\n",
    "        alpha = -(A[i+1][i]/abs(A[i+1][i]))*(np.sum(A[i+1:n,i]**2)**0.5)\n",
    "        r = np.append(r,(.5*alpha**2 - .5*A[i+1][i]*alpha)**0.5)\n",
    "        w[i+1] = (A[i+1][i]-alpha)/(2*r[i])\n",
    "        for j in range(n-(i+2)):\n",
    "            w[j+(i+2)] = A[j+(i+2)][i]/(2*r[i])\n",
    "        wt = w.reshape(n,1)\n",
    "        P = I - 2*(w*wt)\n",
    "        A = np.round(np.matmul(P,np.matmul(A,P)),4)\n",
    "    return A\n",
    "\n"
   ]
  }
 ],
 "metadata": {
  "kernelspec": {
   "display_name": "Python 3",
   "language": "python",
   "name": "python3"
  },
  "language_info": {
   "codemirror_mode": {
    "name": "ipython",
    "version": 3
   },
   "file_extension": ".py",
   "mimetype": "text/x-python",
   "name": "python",
   "nbconvert_exporter": "python",
   "pygments_lexer": "ipython3",
   "version": "3.7.1"
  }
 },
 "nbformat": 4,
 "nbformat_minor": 2
}
