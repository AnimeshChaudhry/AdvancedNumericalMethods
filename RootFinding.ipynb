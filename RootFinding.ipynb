{
 "cells": [
  {
   "cell_type": "code",
   "execution_count": 54,
   "metadata": {},
   "outputs": [],
   "source": [
    "'''\n",
    "CHANGES: I was able to make the function work if the input was an expression itself rather than \n",
    "a lambda function, but otherwise I had to hardcode the interval for test functions. \n",
    "Unfortunately, I was not able to find a way to extract coefficients and highest degree \n",
    "values from a lambda function. If M was the max coefficient and n was the max degree then \n",
    "my interval would be:\n",
    "\n",
    "M = max(map(abs, f.all_coeffs()))\n",
    "n = max(degree_list(f)) \n",
    "a, b = (-n*M), (n*M)\n",
    "'''\n",
    "\n"
   ]
  },
  {
   "cell_type": "code",
   "execution_count": 2,
   "metadata": {},
   "outputs": [],
   "source": [
    "import math\n",
    "import numpy as np\n",
    "from sympy import *\n",
    "\n",
    "\n",
    "\n",
    "def bisection(f,a,b,N):\n",
    "    if f(a)*f(b) >= 0:\n",
    "        return None\n",
    "    a_n = a\n",
    "    b_n = b\n",
    "    for n in range(1,N+1):\n",
    "        m_n = (a_n + b_n)/2\n",
    "        f_m_n = f(m_n)\n",
    "        if f(a_n)*f_m_n < 0:\n",
    "            a_n = a_n\n",
    "            b_n = m_n\n",
    "        elif f(b_n)*f_m_n < 0:\n",
    "            a_n = m_n\n",
    "            b_n = b_n\n",
    "        elif f_m_n == 0:\n",
    "            return m_n\n",
    "        else:\n",
    "            return None\n",
    "    return (a_n + b_n)/2\n",
    "\n",
    "def find_all_roots(f, a, b):\n",
    "    vals = []\n",
    "    for i in np.arange(a, b, 0.1):\n",
    "        vals.append([i, i+0.1])\n",
    "    sor_itr = []\n",
    "    for i in vals:\n",
    "        if bisection(f, i[0], i[1], 25) != None:\n",
    "            sor_itr.append(bisection(f, i[0], i[1], 25))\n",
    "    return list(dict.fromkeys(sor_itr))\n",
    "\n",
    "    \n",
    "\n",
    "########################### MAIN METHOD YOU CALL BY PASSING IN THE FUNCTION ####################################\n",
    "def find_real_roots(f):\n",
    "    x = symbols('x')\n",
    "    f_n = lambdify(x, f)\n",
    "    f = poly(f)\n",
    "    M = max(map(abs, f.all_coeffs()))\n",
    "    n = max(degree_list(f)) \n",
    "    a, b = (-n*M), (n*M)\n",
    "    print(\"Real Roots of the equation between {} and {} are: {}\".format(a,b,find_all_roots(f_n, a, b)))\n",
    "    return f_n, a, b\n",
    "\n",
    "\n",
    "\n"
   ]
  }
 ],
 "metadata": {
  "kernelspec": {
   "display_name": "Python 3",
   "language": "python",
   "name": "python3"
  },
  "language_info": {
   "codemirror_mode": {
    "name": "ipython",
    "version": 3
   },
   "file_extension": ".py",
   "mimetype": "text/x-python",
   "name": "python",
   "nbconvert_exporter": "python",
   "pygments_lexer": "ipython3",
   "version": "3.7.1"
  }
 },
 "nbformat": 4,
 "nbformat_minor": 2
}
