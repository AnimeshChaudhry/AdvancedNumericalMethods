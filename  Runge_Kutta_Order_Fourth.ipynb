{
 "cells": [
  {
   "cell_type": "code",
   "execution_count": 1,
   "metadata": {},
   "outputs": [
    {
     "data": {
      "text/plain": [
       "'\\n---------------------------------------------------------------------------------------------------------\\nQuestion: Use the Runge-Kutta method of order 4 for systems to approximate the solutions to \\nfirst-order differential equations.\\n\\n'"
      ]
     },
     "execution_count": 1,
     "metadata": {},
     "output_type": "execute_result"
    }
   ],
   "source": [
    "'''\n",
    "---------------------------------------------------------------------------------------------------------\n",
    "Question: Use the Runge-Kutta method of order 4 for systems to approximate the solutions to \n",
    "first-order differential equations.\n",
    "\n",
    "'''"
   ]
  },
  {
   "cell_type": "code",
   "execution_count": 2,
   "metadata": {
    "scrolled": true
   },
   "outputs": [],
   "source": [
    "import numpy as np\n",
    "from pandas import DataFrame as df\n",
    "\n",
    "\n",
    "\n",
    "def rko4_fourth(f, a, b, alpha, h):\n",
    "    \n",
    "    num_equations = len(f)\n",
    "    init_num = len(alpha)\n",
    "    t = np.arange(a,b+h,h)\n",
    "    w = np.zeros((init_num,len(t)))\n",
    "    k1 = np.zeros([init_num]); k2 = np.zeros([init_num])\n",
    "    k3 = np.zeros([init_num]); k4 = np.zeros([init_num])\n",
    "    \n",
    "    for i in range(init_num):\n",
    "        w[i,0] = alpha[i]\n",
    "        \n",
    "    for j in range(len(t)-1):\n",
    "        \n",
    "        for i in range(num_equations):\n",
    "            k1[i] = h*f[i](t[j],w[0,j],w[1,j],w[2,j])\n",
    "        for i in range(num_equations):\n",
    "            k2[i] = h*f[i](t[j]+(h/2),w[0,j]+(k1[0]/2),w[1,j]+(k1[1]/2),w[2,j]+(k1[2]/2))\n",
    "        for i in range(num_equations):\n",
    "            k3[i] = h*f[i](t[j]+(h/2),w[0,j]+(k2[0]/2),w[1,j]+(k2[1]/2),w[2,j]+(k2[2]/2))\n",
    "        for i in range(num_equations):\n",
    "            k4[i] = h*f[i](t[j]+h,w[0,j]+k3[0],w[1,j]+k3[1],w[2,j]+k3[2])\n",
    "        for i in range(num_equations):\n",
    "            w[i,j+1] = w[i,j]+(1/6)*(k1[i]+(2*k2[i])+(2*k3[i])+k4[i])\n",
    "            \n",
    "    return w[(0,2),:]"
   ]
  }
 ],
 "metadata": {
  "kernelspec": {
   "display_name": "Python 3",
   "language": "python",
   "name": "python3"
  },
  "language_info": {
   "codemirror_mode": {
    "name": "ipython",
    "version": 3
   },
   "file_extension": ".py",
   "mimetype": "text/x-python",
   "name": "python",
   "nbconvert_exporter": "python",
   "pygments_lexer": "ipython3",
   "version": "3.7.1"
  }
 },
 "nbformat": 4,
 "nbformat_minor": 2
}
