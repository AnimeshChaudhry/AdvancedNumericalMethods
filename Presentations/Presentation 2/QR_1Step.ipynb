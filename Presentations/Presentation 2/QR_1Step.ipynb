{
 "cells": [
  {
   "cell_type": "code",
   "execution_count": 51,
   "metadata": {},
   "outputs": [
    {
     "data": {
      "text/plain": [
       "'\\nAnimesh Chaudhry \\nQR Method\\nFirst step\\n'"
      ]
     },
     "execution_count": 51,
     "metadata": {},
     "output_type": "execute_result"
    }
   ],
   "source": [
    "\"\"\"\n",
    "Animesh Chaudhry \n",
    "QR Method\n",
    "First step\n",
    "\"\"\""
   ]
  },
  {
   "cell_type": "code",
   "execution_count": 55,
   "metadata": {},
   "outputs": [
    {
     "name": "stdout",
     "output_type": "stream",
     "text": [
      "[[3.59999711e+00 8.60228041e-01 1.38116000e-05]\n",
      " [8.60237307e-01 3.12973831e+00 8.97410764e-01]\n",
      " [0.00000000e+00 8.97409532e-01 2.27026718e+00]]\n"
     ]
    }
   ],
   "source": [
    "import numpy as np\n",
    "import math\n",
    "\n",
    "A = np.array([[3, 1, 0],[1, 3, 1],[0, 1, 3]])\n",
    "\n",
    "def QR(A):\n",
    "    \n",
    "    # Find the rotation Matrix P_2\n",
    "    P_2 = np.zeros((3,3))\n",
    "    c_2 = A[0][0]/math.sqrt(A[0][1]**2 + A[0][0]**2)\n",
    "    s_2 = A[0][1]/math.sqrt(A[0][1]**2 + A[0][0]**2)\n",
    "    \n",
    "    P_2[0][0] = c_2\n",
    "    P_2[0][1] = s_2\n",
    "    P_2[1][0] = -s_2\n",
    "    P_2[1][1] = c_2\n",
    "    P_2[2][2] = 1\n",
    "    \n",
    "    \n",
    "    # has a zero in the (2, 1) position\n",
    "    A_2 = np.matmul(P_2,A)\n",
    "    \n",
    "    P_3 = np.zeros((3,3))\n",
    "    c_3 = A_2[1][1]/math.sqrt(A_2[1][1]**2 + A_2[2][1]**2)\n",
    "    s_3 = A_2[2][1]/math.sqrt(A_2[1][1]**2 + A_2[2][1]**2)\n",
    "    \n",
    "    P_3[0][0] = 1\n",
    "    P_3[1][1] = c_3\n",
    "    P_3[1][2] = s_3\n",
    "    P_3[2][1] = -s_3\n",
    "    P_3[2][2] = c_3\n",
    "    \n",
    "    R_1 = np.matmul(P_3,A_2)\n",
    "    \n",
    "    Q_1 = np.matmul(np.transpose(P_2), np.transpose(P_3))\n",
    "    \n",
    "    A2 = np.matmul(np.round(R_1,5), np.round(Q_1,5))\n",
    "    \n",
    "        \n",
    "    \n",
    "    print(A2)    \n",
    "    \n",
    "QR(A)"
   ]
  }
 ],
 "metadata": {
  "kernelspec": {
   "display_name": "Python 3",
   "language": "python",
   "name": "python3"
  },
  "language_info": {
   "codemirror_mode": {
    "name": "ipython",
    "version": 3
   },
   "file_extension": ".py",
   "mimetype": "text/x-python",
   "name": "python",
   "nbconvert_exporter": "python",
   "pygments_lexer": "ipython3",
   "version": "3.7.1"
  }
 },
 "nbformat": 4,
 "nbformat_minor": 2
}
