{
 "cells": [
  {
   "cell_type": "code",
   "execution_count": 1,
   "metadata": {},
   "outputs": [
    {
     "data": {
      "text/plain": [
       "'\\nName: Animesh Chaudhry \\n\\nClass: Math 440\\n\\nPresentation 1\\n\\nLecture 7: Approximating Eigenvalues\\n\\n'"
      ]
     },
     "execution_count": 1,
     "metadata": {},
     "output_type": "execute_result"
    }
   ],
   "source": [
    "'''\n",
    "Name: Animesh Chaudhry \n",
    "\n",
    "Class: Math 440\n",
    "\n",
    "Presentation 1\n",
    "\n",
    "Lecture 7: Approximating Eigenvalues\n",
    "\n",
    "'''"
   ]
  },
  {
   "cell_type": "code",
   "execution_count": 60,
   "metadata": {},
   "outputs": [
    {
     "name": "stdout",
     "output_type": "stream",
     "text": [
      "The following matrix is Orthogonal: \n",
      "   0.667    0.333    0.667 \n",
      "  -0.667    0.667    0.333 \n",
      "  -0.333    0.667   -0.667 \n"
     ]
    }
   ],
   "source": [
    "'''\n",
    "Use Python to show that a matrix A nxn is orthogonal\n",
    "An orthogonal matrix is a square matrix whose columns form an orthonormal set\n",
    "'''\n",
    "\n",
    "import numpy as np\n",
    "\n",
    "def printArray(arr):\n",
    "    for row in arr:\n",
    "        for item in row:\n",
    "            print(\"{:8.3f}\".format(item), end = \" \")\n",
    "        print(\"\")\n",
    "        \n",
    "def print_Message(A):\n",
    "    if (isOrthogonal(A)) : \n",
    "        print(\"The following matrix is Orthogonal: \")\n",
    "        printArray(A) \n",
    "    else : \n",
    "        print(\"The following matrix is NOT Orthogonal: \")\n",
    "        printArray(A)\n",
    "\n",
    "def isOrthogonal(a) : \n",
    "    \n",
    "    A = np.array(a)\n",
    "    \n",
    "    m = A.shape[0]\n",
    "    n = A.shape[1]\n",
    "    \n",
    "    if (m != n) : \n",
    "        return False\n",
    "      \n",
    "    trans = [[0 for x in range(n)]  \n",
    "                for y in range(n)]  \n",
    "                  \n",
    "    # Find transpose \n",
    "    for i in range(0, n) : \n",
    "        for j in range(0, n) : \n",
    "            trans[i][j] = a[j][i] \n",
    "              \n",
    "    prod = [[0 for x in range(n)] \n",
    "               for y in range(n)]  \n",
    "                 \n",
    "    # Find product of a[][]  \n",
    "    # and its transpose \n",
    "    for i in range(0, n) : \n",
    "        for j in range(0, n) : \n",
    "      \n",
    "            sum = 0\n",
    "            for k in range(0, n) : \n",
    "          \n",
    "                # Since we are multiplying  \n",
    "                # with transpose of itself. \n",
    "                # We use \n",
    "                sum = sum + (a[i][k] * \n",
    "                             a[j][k]) \n",
    "      \n",
    "            prod[i][j] = sum\n",
    "  \n",
    "    # Check if product is  \n",
    "    # identity matrix \n",
    "    for i in range(0, n) : \n",
    "        for j in range(0, n) : \n",
    "  \n",
    "            if ((i != j and int(prod[i][j]) != 0) or (i == j and int(prod[i][j]) != 1)) : \n",
    "                return False\n",
    "  \n",
    "    return True\n",
    "\n",
    "\n",
    "  \n",
    "# Matrix \n",
    "A = [[2/3, 1/3, 2/3], \n",
    "    [-2/3, 2/3, 1/3], \n",
    "    [-1/3, 2/3, -2/3]] \n",
    "\n",
    "print_Message(A)\n",
    "\n",
    "          \n",
    "    \n",
    "    \n"
   ]
  },
  {
   "cell_type": "code",
   "execution_count": 80,
   "metadata": {},
   "outputs": [
    {
     "name": "stdout",
     "output_type": "stream",
     "text": [
      "Enter the matrix size 2\n",
      "-1 0\n",
      "0 -1\n",
      "The following matrix is Orthogonal: \n",
      "  -1.000    0.000 \n",
      "   0.000   -1.000 \n"
     ]
    }
   ],
   "source": [
    "'''\n",
    "Determine if a user given square matrix is orthogonal\n",
    "'''\n",
    "\n",
    "def get_Matrix():\n",
    "    n=int(input(\"Enter the matrix size \"))\n",
    "    \n",
    "    #initialise nxn matrix with zeroes\n",
    "    mat=np.zeros((n,n))\n",
    "    \n",
    "    #input each row at a time,with each element separated by a space\n",
    "    for i in range(n):\n",
    "        mat[i]=input().split(\" \")\n",
    "    return mat\n",
    "\n",
    "\n",
    "print_Message(get_Matrix())\n"
   ]
  },
  {
   "cell_type": "code",
   "execution_count": 173,
   "metadata": {},
   "outputs": [
    {
     "name": "stdout",
     "output_type": "stream",
     "text": [
      "[[False False False]\n",
      " [False False False]\n",
      " [False False False]]\n",
      "3.8586123009300746\n",
      "3.7416573867739413\n"
     ]
    }
   ],
   "source": [
    "from numpy.linalg import inv\n",
    "from numpy import linalg as LA\n",
    "import numpy as np\n",
    "\n",
    "'''\n",
    "Use Python to check i and ii for A \n",
    "\n",
    "i) Q^-1 = Q^T\n",
    "ii) ||Q||2 = ||x||2\n",
    "'''\n",
    "\n",
    "\n",
    "Q = [[2/3, 1/3, 2/3], \n",
    "    [-2/3, 2/3, 1/3], \n",
    "    [-1/3, 2/3, -2/3]] \n",
    "\n",
    "x = [1, 2, 3]\n",
    "\n",
    "# if(inv(Q) == np.transpose(Q)):\n",
    "#     print(\"HI\")\n",
    "\n",
    "print(np.transpose(Q) == inv(Q))\n",
    "\n",
    "print(LA.norm(np.dot(Q, np.transpose(x))))\n",
    "\n",
    "print(LA.norm(np.transpose(x)))\n"
   ]
  },
  {
   "cell_type": "code",
   "execution_count": 175,
   "metadata": {},
   "outputs": [
    {
     "name": "stdout",
     "output_type": "stream",
     "text": [
      "A = (S^-1)BS valid\n"
     ]
    }
   ],
   "source": [
    "from numpy.linalg import inv\n",
    "\n",
    "\n",
    "a = [[4, -3, 0],\n",
    "    [0, -2, 0],\n",
    "    [1, 1, -2]]\n",
    "\n",
    "b = [[1, 3, 0],\n",
    "    [3, 1, 0],\n",
    "    [1, 0, -2]]\n",
    "\n",
    "s = [[1, 1, 0],\n",
    "    [1, -2, 0],\n",
    "    [0, 0, 1]]\n",
    "\n",
    "\n",
    "# while(True):\n",
    "#     print(\"\\nMatrix A\")\n",
    "#     A = get_Matrix()\n",
    "    \n",
    "#     print(\"\\nMatrix B\")\n",
    "#     B = get_Matrix()\n",
    "    \n",
    "#     print(\"\\nMatrix S\")\n",
    "#     S = get_Matrix()\n",
    "    \n",
    "#     if (A.shape == B.shape == S.shape):\n",
    "#         break\n",
    "#     else:\n",
    "#         print(\"All matrices must be of the same dimension.\")\n",
    "\n",
    "\n",
    "pf= np.matmul(np.matmul(inv(s), b), s)\n",
    "\n",
    "if(np.array_equal(a, pf)):\n",
    "    print(\"A = (S^-1)BS valid\")\n",
    "else:\n",
    "    print(\"Invalid\")\n",
    "\n",
    "\n"
   ]
  },
  {
   "cell_type": "code",
   "execution_count": 174,
   "metadata": {},
   "outputs": [
    {
     "name": "stdout",
     "output_type": "stream",
     "text": [
      "Enter the matrix size 3\n",
      "1 2 3\n",
      "4 5 6\n",
      "7 8 9\n"
     ]
    },
    {
     "data": {
      "text/plain": [
       "False"
      ]
     },
     "execution_count": 174,
     "metadata": {},
     "output_type": "execute_result"
    }
   ],
   "source": [
    "import numpy as np\n",
    "\n",
    "def check_symmetric(a, rtol=1e-05, atol=1e-08):\n",
    "    a = np.array(a)\n",
    "    return np.allclose(a, a.T, rtol=rtol, atol=atol)\n",
    "\n",
    "\n",
    "def transpose(mat, tr):\n",
    "    N = np.array(mat).shape[0]\n",
    "    for i in range(N): \n",
    "        for j in range(N): \n",
    "            tr[i][j] = mat[j][i] \n",
    "    \n",
    "def isSymmetric(mat): \n",
    "    \n",
    "    N = np.array(mat).shape[0]  \n",
    "    tr = [ [0 for j in range(len(mat[0])) ] for i in range(len(mat)) ] \n",
    "    transpose(mat, tr) \n",
    "    for i in range(N): \n",
    "        for j in range(N): \n",
    "            if (mat[i][j] != tr[i][j]): \n",
    "                return False\n",
    "    return True\n",
    "\n",
    "\n",
    "def is_pos_def(x):\n",
    "    if (isSymmetric(x)):\n",
    "        return np.all(np.linalg.eigvals(x) > 0)\n",
    "    else:\n",
    "        return False\n",
    "\n",
    "p = get_Matrix()\n",
    "    \n",
    "is_pos_def(p)\n",
    "\n",
    "\n",
    "# print(check_symmetric(a))\n",
    "\n",
    "\n"
   ]
  }
 ],
 "metadata": {
  "kernelspec": {
   "display_name": "Python 3",
   "language": "python",
   "name": "python3"
  },
  "language_info": {
   "codemirror_mode": {
    "name": "ipython",
    "version": 3
   },
   "file_extension": ".py",
   "mimetype": "text/x-python",
   "name": "python",
   "nbconvert_exporter": "python",
   "pygments_lexer": "ipython3",
   "version": "3.7.1"
  }
 },
 "nbformat": 4,
 "nbformat_minor": 2
}
