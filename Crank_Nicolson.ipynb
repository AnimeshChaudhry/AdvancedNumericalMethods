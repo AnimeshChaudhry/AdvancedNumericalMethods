{
 "cells": [
  {
   "cell_type": "code",
   "execution_count": 2,
   "metadata": {},
   "outputs": [
    {
     "data": {
      "text/plain": [
       "'\\nCrank-Nicolson method.\\nFinite-Difference method (Crank-Nicholson) to approximate the s\\nolution to the Parabolic partial-differential equation\\n\\n**********************************************************************************************************\\n\\n'"
      ]
     },
     "execution_count": 2,
     "metadata": {},
     "output_type": "execute_result"
    }
   ],
   "source": [
    "'''\n",
    "Crank-Nicolson method.\n",
    "Finite-Difference method (Crank-Nicholson) to approximate the s\n",
    "olution to the Parabolic partial-differential equation\n",
    "\n",
    "**********************************************************************************************************\n",
    "\n",
    "'''"
   ]
  },
  {
   "cell_type": "code",
   "execution_count": 3,
   "metadata": {},
   "outputs": [
    {
     "name": "stdout",
     "output_type": "stream",
     "text": [
      "Finite-Difference method (Crank-Nicholson) to approximate the solution to the Parabolic partial-differential equation\n",
      "\n",
      "   i  j   xi    tj        w  actual values    error\n",
      "0  1  1  0.5  0.05  0.62885        0.62504  0.00381\n",
      "1  2  1  1.0  0.05  0.88933        0.88394  0.00539\n",
      "2  3  1  1.5  0.05  0.62885        0.62504  0.00381\n",
      "3  1  2  0.5  0.10  0.55880        0.55249  0.00630\n",
      "4  2  2  1.0  0.10  0.79026        0.78134  0.00891\n",
      "5  3  2  1.5  0.10  0.55880        0.55249  0.00630\n",
      "\n",
      "\n"
     ]
    }
   ],
   "source": [
    "from pandas import DataFrame as df\n",
    "import numpy as np\n",
    "\n",
    "def crank_nic(a, b, alpha, f, m, T, N):\n",
    "    L = b\n",
    "    h = L/m\n",
    "    k = T/N\n",
    "    \n",
    "    t = np.zeros(m-1)\n",
    "    w = {}\n",
    "    \n",
    "    for j in range(m-1):\n",
    "        t[j] = j*k\n",
    "    \n",
    "    \n",
    "    for j in range(len(t[1:])):\n",
    "        \n",
    "        lamb = ((alpha**2)*t[1:][j])/(h**2)\n",
    "\n",
    "        A = np.zeros((m-1,m-1))\n",
    "        w0 = np.zeros((m-1,1))\n",
    "        B = np.zeros((m-1,m-1))\n",
    "        x = np.arange(a,b+h,h)[1:-1]\n",
    "\n",
    "        x = np.arange(a,b+h,h)[1:-1]\n",
    "\n",
    "        for i in range(len(x)):\n",
    "            w0[i] = f(x[i])\n",
    "\n",
    "        A[0,0] = 1 + lamb;\n",
    "        A[0,1]   = (-1*lamb)/2\n",
    "        for i in range(1,m-2):\n",
    "            A[i,i] = 1+lamb\n",
    "            A[i,i-1] = (-1*lamb)/2\n",
    "            A[i,i+1] = (-1*lamb)/2\n",
    "        A[m-2,m-2] = 1+lamb\n",
    "        A[m-2,m-3] = (-1*lamb)/2\n",
    "\n",
    "        B[0,0] = 1 - lamb;\n",
    "        B[0,1]   = (lamb)/2\n",
    "        for i in range(1,m-2):\n",
    "            B[i,i] = 1-lamb\n",
    "            B[i,i-1] = (lamb)/2\n",
    "            B[i,i+1] = (lamb)/2\n",
    "        B[m-2,m-2] = 1-lamb\n",
    "        B[m-2,m-3] = (lamb)/2\n",
    "\n",
    "\n",
    "        w[j] = np.linalg.solve(A, np.matmul(B, w0))\n",
    "    return w, x, t[1:]\n",
    "\n",
    "\n",
    "########################################################\n",
    "a,b,alpha,m,T,N,f = 0,2,1,4,0.1,2, lambda x: np.sin((np.pi/2.)*x)\n",
    "actual = lambda x,t: np.exp(-(np.pi**2/4)*t)*np.sin(np.pi*x/2)\n",
    "\n",
    "\n",
    "\n",
    "def ex(a, b, alpha, f, m, T, N):\n",
    "    ans = crank_nic(a, b, alpha, f, m, T, N)\n",
    "    w, xi, tj = ans[0], ans[1], ans[2]\n",
    "    w = np.concatenate((w[0], w[1]), axis=None)\n",
    "    sol = []\n",
    "    for j in tj:\n",
    "        for i in xi:\n",
    "            sol.append(actual(i,j))\n",
    "\n",
    "    ans_dic = {'x':[ans[1][0],ans[1][1],ans[1][2],ans[1][0],ans[1][1],ans[1][2]],\n",
    "               't':[ans[2][0],ans[2][0],ans[2][0],ans[2][1],ans[2][1],ans[2][1]],\n",
    "              'i': [1,2,3,1,2,3],\n",
    "              'j': [1,1,1,2,2,2]}\n",
    "\n",
    "    print(f\"Finite-Difference method (Crank-Nicholson) to approximate the solution to the\\\n",
    " Parabolic partial-differential equation\\n\")\n",
    "    data = {'i':ans_dic['i'],\n",
    "            'j':ans_dic['j'],\n",
    "            'xi':ans_dic['x'],\n",
    "            'tj':ans_dic['t'],\n",
    "            'w':w,\n",
    "            'actual values':sol,\n",
    "           'error': abs(sol-w)}\n",
    "    print(f\"{df(data).round(5)}\\n\\n\")\n",
    "\n",
    "\n",
    "\n",
    "ex(a, b, alpha, f, m, T, N)\n",
    "\n",
    "\n"
   ]
  }
 ],
 "metadata": {
  "kernelspec": {
   "display_name": "Python 3",
   "language": "python",
   "name": "python3"
  },
  "language_info": {
   "codemirror_mode": {
    "name": "ipython",
    "version": 3
   },
   "file_extension": ".py",
   "mimetype": "text/x-python",
   "name": "python",
   "nbconvert_exporter": "python",
   "pygments_lexer": "ipython3",
   "version": "3.7.1"
  }
 },
 "nbformat": 4,
 "nbformat_minor": 2
}
